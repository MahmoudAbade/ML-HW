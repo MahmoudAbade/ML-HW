{
  "cells": [
    {
      "cell_type": "markdown",
      "metadata": {
        "id": "aj440z9b98Zw"
      },
      "source": [
        "# Introducrtion to Machine Learning: Assignment #2\n",
        "## Submission date: 19\\05\\2025, 23:59.\n",
        "### Topics:\n",
        "- Linear Regression\n",
        "- Perceptron\n",
        "- Logistic Regression\n",
        "- SVM"
      ]
    },
    {
      "cell_type": "markdown",
      "metadata": {
        "id": "em4OeZTD9-R2"
      },
      "source": [
        "Submitted by:\n",
        "\n",
        " **Student 1 Name+ID\n",
        "\n",
        " **Student 2 Name+ID"
      ]
    },
    {
      "cell_type": "markdown",
      "metadata": {
        "id": "GQ-GUBWN9_JY"
      },
      "source": [
        "**Assignment Instruction:**\n",
        "\n",
        "· Submissions in pairs only.\n",
        "\n",
        "· Try to keep the code as clean, concise, and short as possible\n",
        "\n",
        "· If you wish to work in your IDE, you can, but you **must**,  insert the script back to the matching cells of the notebook and run the code. <br/>Only the notebook will be submitted in moodle (in `.ipynb` format).\n",
        "\n",
        "· <font color='red'>Please write your answers to question in red</font>.\n",
        "\n",
        "**Important:** All plots, results and outputs should be included in the notebook as the cells' outputs (run all cells and do not clear the output). <br/>\n",
        "\n",
        "**Important:** Your submission must be entirely your own. Any attempts of plagiarism (including ChatGPT) will lead to grade 0 and disciplinary actions.\n"
      ]
    },
    {
      "cell_type": "markdown",
      "metadata": {
        "id": "rs2flQjZL-D7"
      },
      "source": [
        "## Question 1 - Linear Regression\n",
        "You are requested to predict energy efficiency based on building attributes, such as wall area and glazing area.\n",
        "The dataset consists of 8 continious features and **Two** outputs - Heat & Cool loadings.\n",
        "You can read more about the dataset <a href='https://archive.ics.uci.edu/dataset/242/energy+efficiency'>here</a>"
      ]
    },
    {
      "cell_type": "code",
      "execution_count": null,
      "metadata": {
        "id": "DhZGt3H7j4c6"
      },
      "outputs": [],
      "source": [
        "import numpy as np\n",
        "import pandas as pd\n",
        "import matplotlib.pyplot as plt\n",
        "from tqdm import tqdm\n",
        "\n",
        "from sklearn.linear_model import LinearRegression\n",
        "from sklearn.linear_model import Ridge\n",
        "from sklearn.linear_model import Lasso"
      ]
    },
    {
      "cell_type": "markdown",
      "metadata": {
        "id": "J3qUuz18MR3A"
      },
      "source": [
        "Load data from https://sharon.srworkspace.com/ml/datasets/hw3/ENB2012_data.csv"
      ]
    },
    {
      "cell_type": "code",
      "execution_count": null,
      "metadata": {
        "id": "RA8-1RrnMOpw"
      },
      "outputs": [],
      "source": [
        "df = pd.read_csv('https://sharon.srworkspace.com/ml/datasets/hw3/ENB2012_data.csv')\n",
        "df.head(3)"
      ]
    },
    {
      "cell_type": "markdown",
      "metadata": {
        "id": "4zjczKr4MNHv"
      },
      "source": [
        "Divide the data into 85% train and 15% test with random_state=21.\n",
        "\n"
      ]
    },
    {
      "cell_type": "code",
      "execution_count": null,
      "metadata": {
        "id": "FBnctOlsMVCT"
      },
      "outputs": [],
      "source": [
        "# Implement here"
      ]
    },
    {
      "cell_type": "markdown",
      "metadata": {
        "id": "11RHbDzUM1bd"
      },
      "source": [
        "Define sklearn's linear regression, fit the train and save both train and test MSEs (by appending to results['Linear']). <br/>\n",
        "DO NOT use \"score\" method of sklearn - we didn't learn about it and it does not measure MSE."
      ]
    },
    {
      "cell_type": "code",
      "execution_count": null,
      "metadata": {
        "id": "R4mxOKwiNOY6"
      },
      "outputs": [],
      "source": [
        "results = {'Linear': [], 'Ridge': [], 'Lasso': []}\n",
        "\n",
        "# Implement here"
      ]
    },
    {
      "cell_type": "markdown",
      "metadata": {
        "id": "_GGGh7IDPUec"
      },
      "source": [
        "Show the correlation matrix of the train data. Should we do something?"
      ]
    },
    {
      "cell_type": "code",
      "execution_count": null,
      "metadata": {
        "id": "zjeP8fMxOUyP"
      },
      "outputs": [],
      "source": [
        "# Implement here"
      ]
    },
    {
      "cell_type": "markdown",
      "metadata": {
        "id": "uyaVfDo2mINo"
      },
      "source": [
        "For both ridge and lasso, tune the best $\\lambda$.\n",
        "- For ridge, $\\lambda\\in \\text{np.arange}(0.1, 1, 0.1)$.\n",
        "- For lasso, $\\lambda\\in \\text{np.logspace}(-4, -2, 20)$\n",
        "\n",
        "For lasso, use `max_iter=5000`, as there is no close formula and convegence is not guranteeed."
      ]
    },
    {
      "cell_type": "code",
      "execution_count": null,
      "metadata": {
        "id": "re_G7aE2mq0M"
      },
      "outputs": [],
      "source": [
        "# pre-process data, if needed\n",
        "\n",
        "######### RIDGE #########\n",
        "\n",
        "alphas = np.arange(0.1, 1, 0.1)\n",
        "mses_train = []\n",
        "mses_test = []\n",
        "\n",
        "# implement here\n",
        "\n",
        "plt.figure(figsize=(12,12))\n",
        "\n",
        "plt.subplot(221)\n",
        "plt.plot(alphas, mses_train)\n",
        "plt.title(\"train mse (ridge)\")\n",
        "\n",
        "plt.subplot(222)\n",
        "plt.plot(alphas, mses_test)\n",
        "plt.title(\"test mse (ridge)\")\n",
        "\n",
        "######### LASSO #########\n",
        "\n",
        "alphas = np.logspace(-4, -2, 20)\n",
        "mses_train = []\n",
        "mses_test = []\n",
        "\n",
        "# implement here\n",
        "\n",
        "plt.subplot(223)\n",
        "plt.plot(alphas, mses_train)\n",
        "plt.title(\"train mse (lasso)\")\n",
        "\n",
        "plt.subplot(224)\n",
        "plt.plot(alphas, mses_test)\n",
        "plt.title(\"test mse (lasso)\")"
      ]
    },
    {
      "cell_type": "markdown",
      "metadata": {
        "id": "H3mfhp-JnqBE"
      },
      "source": [
        "Unlike the theory, both methods give best results for a very small $\\lambda$ and otherwise, big MSEs on both train and test. Look at the following:\n",
        "- the coefficients of the original regression model.\n",
        "- the mathematical relation between cov matrix and $X^\\top X$, and determinant of both.\n",
        "\n",
        "Use those to explain why larger values will only make things worse, even on the test.\n",
        "\n",
        "<font color='red'>Write your answer here and explain it</font>"
      ]
    },
    {
      "cell_type": "markdown",
      "metadata": {
        "id": "xQ6qmbqWkq8w"
      },
      "source": [
        "Print results from all three models (and use the best $\\lambda$ from each model).\n",
        "1. Explain the results and determine which model was be best.\n",
        "2. What might be the cause to the values for searching given above? Why are the differences in the scales?\n",
        "\n",
        "<font color='red'>Write your answers here and explain them</font>"
      ]
    },
    {
      "cell_type": "code",
      "execution_count": null,
      "metadata": {
        "id": "mrmH1VcanVU2"
      },
      "outputs": [],
      "source": [
        "df = pd.DataFrame(results, columns=['Linear', 'Ridge', 'Lasso'], index=['train', 'test'])\n",
        "print(df)"
      ]
    },
    {
      "cell_type": "markdown",
      "metadata": {
        "id": "NKWjqVSG-hZG"
      },
      "source": [
        "## Question 2 - Perceptron\n",
        "You are given dataset for binary classification in 2D and aim to build the best Perceptron classifier."
      ]
    },
    {
      "cell_type": "markdown",
      "metadata": {
        "id": "WcTtpyuLRnos"
      },
      "source": [
        "import libraries"
      ]
    },
    {
      "cell_type": "code",
      "execution_count": 124,
      "metadata": {
        "id": "S9McjsXS-inp"
      },
      "outputs": [],
      "source": [
        "import numpy as np\n",
        "import matplotlib.pyplot as plt\n",
        "import requests\n",
        "from io import BytesIO"
      ]
    },
    {
      "cell_type": "code",
      "execution_count": 125,
      "metadata": {
        "cellView": "form",
        "id": "ZMbzzvfpxAM1"
      },
      "outputs": [],
      "source": [
        "# Load numpy file function\n",
        "def load_npy_file(url):\n",
        "    response = requests.get(url)\n",
        "    if response.status_code == 200:\n",
        "        return np.load(BytesIO(response.content), allow_pickle=True).item()\n",
        "    return None"
      ]
    },
    {
      "cell_type": "markdown",
      "metadata": {
        "id": "KhiHyOHbWCOU"
      },
      "source": [
        "Load data and make sure labels are appropriate for the perceptron algorithm"
      ]
    },
    {
      "cell_type": "code",
      "execution_count": 126,
      "metadata": {
        "id": "CnxdtJ9H-uMu"
      },
      "outputs": [],
      "source": [
        "# Load and preprocess data\n",
        "data_dict = load_npy_file('https://sharon.srworkspace.com/ml/datasets/hw2/perceptron_data.npy')\n",
        "X_train = data_dict['X_train']\n",
        "y_train = data_dict['y_train']\n",
        "X_test = data_dict['X_test']\n",
        "y_test = data_dict['y_test']\n",
        "\n",
        "# Convert labels to -1 and 1 if necessary\n",
        "if set(np.unique(y_train)) == {0, 1}:\n",
        "    y_train = 2 * y_train - 1\n",
        "    y_test = 2 * y_test - 1"
      ]
    },
    {
      "cell_type": "markdown",
      "metadata": {
        "id": "tQAuuHqiWjFO"
      },
      "source": [
        "Implement the function `perceptron(data, labels, batch_size)` which gets the train data $X\\in\\mathbb{R}^{n\\times d}$, labels and returns the weight vector learned by perceptron.\n",
        "\n",
        "At each iteration, sample `batch_size` miscalssified samples and update the weights according to them.\n",
        "\n",
        "You should return two values:\n",
        "1. List of the losses from all the iterations over all the data. For example, if the loss was 10 and in the next iteration 5, return [10,5].\n",
        "2. The weights w.\n",
        "\n",
        "Demands:\n",
        "- Do not use max_iterations bound here, but only gradient norm check.\n",
        "- Use lr=0.05."
      ]
    },
    {
      "cell_type": "code",
      "execution_count": 127,
      "metadata": {
        "id": "o7VtxRETAD-D"
      },
      "outputs": [],
      "source": [
        "# Perceptron implementation\n",
        "def perceptron(data, labels, batch_size):\n",
        "    n, d = data.shape\n",
        "    w, b, lr, losses = np.zeros(d), 0, 0.05, []\n",
        "    while True:\n",
        "        preds = data @ w + b\n",
        "        misclassified = np.where(labels * preds <= 0)[0]\n",
        "        loss = len(misclassified)\n",
        "        losses.append(loss)\n",
        "        if loss == 0:\n",
        "            break\n",
        "        batch_idx = np.random.choice(misclassified, min(batch_size, loss), replace=False)\n",
        "        delta_w = lr * (labels[batch_idx, np.newaxis] * data[batch_idx]).sum(axis=0)\n",
        "        delta_b = lr * labels[batch_idx].sum()\n",
        "        w += delta_w\n",
        "        b += delta_b\n",
        "    return losses, w, b"
      ]
    },
    {
      "cell_type": "code",
      "execution_count": 128,
      "metadata": {
        "cellView": "form",
        "id": "s4mWRarOv7Hv"
      },
      "outputs": [],
      "source": [
        "def plot(data, labels, w, bias):\n",
        "    plt.scatter(data[:, 0], data[:, 1], c=labels)\n",
        "    m, b_line = -w[0] / w[1], -bias / w[1]\n",
        "    x = np.arange(0.2, 0.8, 0.1)\n",
        "    plt.plot(x, m * x + b_line)\n",
        "    preds = np.sign(data @ w + bias)\n",
        "    acc = np.mean(preds == labels)\n",
        "    plt.title(f\"Accuracy on data is {acc:.4f}\")\n",
        "    plt.show()"
      ]
    },
    {
      "cell_type": "markdown",
      "metadata": {
        "id": "Ffu9HOcBv6dy"
      },
      "source": [
        "Train the perceptron model and call the plot func' on the <u>train</u>\n",
        "dataset. It prints the accurcay as the graph's title.\n",
        "1. What is your conclusion about this data?\n",
        "2. How would SVM react to such data? Will it perform better?\n",
        "\n",
        "<font color='red'>Write here your answers and explain them.</font>"
      ]
    },
    {
      "cell_type": "code",
      "execution_count": 129,
      "metadata": {
        "id": "AfQtjdHxCgUq"
      },
      "outputs": [
        {
          "data": {
            "image/png": "[encoded data removed]",
            "text/plain": [
              "<Figure size 640x480 with 1 Axes>"
            ]
          },
          "metadata": {},
          "output_type": "display_data"
        }
      ],
      "source": [
        "# Train with batch_size=1 and plot\n",
        "losses, w, b = perceptron(X_train, y_train, batch_size=1)\n",
        "plot(X_train, y_train, w, b)"
      ]
    },
    {
      "cell_type": "markdown",
      "metadata": {
        "id": "uSWn3A5jarJM"
      },
      "source": [
        "Repeat the same training as above, but using batch_size=1,10,50,100.\n",
        "\n",
        "Plot all the graphs and compare them. In addition, what is your optimal batch_size for this problem? why?\n",
        "\n",
        "<font color='red'>Write here your answers and explain them.</font>"
      ]
    },
    {
      "cell_type": "code",
      "execution_count": 132,
      "metadata": {
        "id": "spRaCHdwY3jE"
      },
      "outputs": [
        {
          "data": {
            "image/png": "[encoded data removed]",
            "text/plain": [
              "<Figure size 1000x800 with 4 Axes>"
            ]
          },
          "metadata": {},
          "output_type": "display_data"
        }
      ],
      "source": [
        "# Compare batch sizes\n",
        "batch_sizes = [1, 10, 50, 100]\n",
        "plt.figure(figsize=(10, 8))\n",
        "for i, batch_size in enumerate(batch_sizes, 1):\n",
        "    losses, w, b = perceptron(X_train, y_train, batch_size)\n",
        "    #plot(X_train, y_train, w, b)\n",
        "    plt.subplot(2, 2, i)\n",
        "    plt.plot(losses)\n",
        "    plt.title(f'Batch Size = {batch_size}')\n",
        "    plt.xlabel('Iteration')\n",
        "    plt.ylabel('Misclassified')\n",
        "plt.tight_layout()\n",
        "plt.show()"
      ]
    },
    {
      "cell_type": "markdown",
      "metadata": {
        "id": "cnbaTIq9wOZf"
      },
      "source": [
        "Using the optimal batch_size you specified, print the final test accuracy."
      ]
    },
    {
      "cell_type": "code",
      "execution_count": 151,
      "metadata": {
        "id": "tzt1OEPtwQD1"
      },
      "outputs": [
        {
          "name": "stdout",
          "output_type": "stream",
          "text": [
            "Test accuracy with batch_size=10: 95.00%\n"
          ]
        }
      ],
      "source": [
        "# Test accuracy with optimal batch_size\n",
        "optimal_batch_size = 10\n",
        "losses, w, b = perceptron(X_train, y_train, optimal_batch_size)\n",
        "preds_test = np.sign(X_test @ w + b)\n",
        "test_acc = np.mean(preds_test == y_test)\n",
        "print(f\"Test accuracy with batch_size={optimal_batch_size}: {test_acc * 100:.2f}%\")"
      ]
    },
    {
      "cell_type": "markdown",
      "metadata": {
        "id": "PJPkQ__X2pKK"
      },
      "source": [
        "## Question 3 - Logistic regression\n",
        "\n",
        "In this section you will build a classifier on a \"toy\" problem - Based on two grades, we determine if student passes the course or not."
      ]
    },
    {
      "cell_type": "markdown",
      "metadata": {
        "id": "KCZXWQdQ4P_u"
      },
      "source": [
        "import libraries and load dataset"
      ]
    },
    {
      "cell_type": "code",
      "execution_count": 157,
      "metadata": {
        "id": "011X9kCz4Prr"
      },
      "outputs": [],
      "source": [
        "import numpy as np\n",
        "import pandas as pd\n",
        "import matplotlib.pyplot as plt\n",
        "from sklearn.model_selection import train_test_split\n",
        "from sklearn.preprocessing import StandardScaler\n",
        "\n",
        "# Load dataset\n",
        "df = pd.read_csv(\n",
        "    'https://sharon.srworkspace.com/ml/datasets/hw2/exams2.csv',\n",
        "    header=None, names=['grade1', 'grade2', 'pass']\n",
        ")\n"
      ]
    },
    {
      "cell_type": "markdown",
      "metadata": {
        "id": "U6BK3TZh4SFN"
      },
      "source": [
        "Preprocess the data:\n",
        "1. Convert dataset to numpy, make sure classes are {0,1}.\n",
        "2. The grades are discrete values between 0-100. Make them continious by adding a noise $ϵ_i\\sim\\mathcal{N}(0,1)$ for each data point.\n",
        "\n",
        "3. Split to temp & test (80-20, stratify, random_state=42)\n",
        "4. Split the temp to train & validation (80-20, stratify, random_state=42)\n",
        "5. Scale the data"
      ]
    },
    {
      "cell_type": "code",
      "execution_count": 158,
      "metadata": {
        "id": "3XZQs2952rGD"
      },
      "outputs": [],
      "source": [
        "# Preprocess\n",
        "X = df[['grade1', 'grade2']].to_numpy(dtype=float)\n",
        "y = df['pass'].to_numpy().astype(int)\n",
        "# Add Gaussian noise\n",
        "X += np.random.randn(*X.shape)\n",
        "\n",
        "# Split: temp+test (80/20)\n",
        "X_temp, X_test, y_temp, y_test = train_test_split(\n",
        "    X, y, test_size=0.2, stratify=y, random_state=42\n",
        ")\n",
        "# Split temp: train+val (80/20)\n",
        "X_train, X_val, y_train, y_val = train_test_split(\n",
        "    X_temp, y_temp, test_size=0.2, stratify=y_temp, random_state=42\n",
        ")\n",
        "\n",
        "# Scale features\n",
        "scaler = StandardScaler().fit(X_train)\n",
        "X_train = scaler.transform(X_train)\n",
        "X_val   = scaler.transform(X_val)\n",
        "X_test  = scaler.transform(X_test)\n"
      ]
    },
    {
      "cell_type": "markdown",
      "metadata": {
        "id": "CBR_lRqe8N18"
      },
      "source": [
        "Implement the function `Logistic_Regression_via_GD(X, y, lr)`:\n",
        "-\tInput: the training data $X\\in\\mathbb{R}^{n\\times d}$, a label vector $y\\in\\{0,1\\}^n$ and learning rate parameter ‘lr’.\n",
        "-\tOutput: The function computes the output vector ‘w’ (and ‘b’) which minimzes the logistic regression cost function on ‘X’ and ‘y’. <br/>\n",
        "\n",
        "It should be done by implementing Gradient descent (with ‘lr’ as the learning rate) to solve logistic regression. Also, make sure to not run more than 3000 iterations. <br/>\n",
        "\n",
        "Tip: The gradients may be large, you can use $\\frac{1}{n}\\nabla{L}$ (which is the true empirical loss' gradient)"
      ]
    },
    {
      "cell_type": "code",
      "execution_count": 159,
      "metadata": {
        "id": "5hgUwWPF8QiM"
      },
      "outputs": [],
      "source": [
        "# Logistic Regression implementation\n",
        "def sigmoid(z):\n",
        "    return 1 / (1 + np.exp(-z))\n",
        "\n",
        "def Logistic_Regression_via_GD(X, y, lr, lamda=0):\n",
        "    n, d = X.shape\n",
        "    w, b = np.zeros(d), 0\n",
        "    for _ in range(3000):\n",
        "        preds = sigmoid(X @ w + b)\n",
        "        error = preds - y\n",
        "        grad_w = (X.T @ error) / n + lamda * np.sign(w)\n",
        "        grad_b = error.mean()\n",
        "        w -= lr * grad_w\n",
        "        b -= lr * grad_b\n",
        "    return w, b"
      ]
    },
    {
      "cell_type": "markdown",
      "metadata": {
        "id": "Zbue-ARwBVMJ"
      },
      "source": [
        "The function 'predict' is already implemented for you. It gives a classification for a new sample (x) based on the sign of $w^\\top x + b$. <br/>\n",
        "The function currently returns {-1,+1}. <u>Modify this</u> to {0,1}"
      ]
    },
    {
      "cell_type": "code",
      "execution_count": 160,
      "metadata": {
        "id": "CqrZl4vfBvGB"
      },
      "outputs": [],
      "source": [
        "def predict(w, b, x):\n",
        "    return (x @ w + b >= 0).astype(int)"
      ]
    },
    {
      "cell_type": "markdown",
      "metadata": {
        "id": "WG7pMuREAWO9"
      },
      "source": [
        "Call `Logistic_Regression_via_GD(X,y,lr)`, where ‘X’ and ‘y’ are the training data and the corresponding labels. Use lr of 0.1 and print the accuracy on the test set."
      ]
    },
    {
      "cell_type": "code",
      "execution_count": 161,
      "metadata": {
        "id": "6zL-7lp0AGcW"
      },
      "outputs": [
        {
          "name": "stdout",
          "output_type": "stream",
          "text": [
            "Test accuracy is 95.00%\n"
          ]
        }
      ],
      "source": [
        "# Train and evaluate without regularization\n",
        "w, b = Logistic_Regression_via_GD(X_train, y_train, lr=0.1)\n",
        "preds_test = predict(w, b, X_test)\n",
        "accuracy = np.mean(preds_test == y_test)\n",
        "print(f\"Test accuracy is {accuracy * 100:.2f}%\")"
      ]
    },
    {
      "cell_type": "markdown",
      "metadata": {
        "id": "CSTCGymL2OAQ"
      },
      "source": [
        "Visualize the test data. As for now, it shows the scaled data.<br/>\n",
        "Show the data and line of the original data ranges (x,y ranges in [0,100])."
      ]
    },
    {
      "cell_type": "code",
      "execution_count": 162,
      "metadata": {
        "id": "S4ITLbDrm6R1"
      },
      "outputs": [
        {
          "data": {
            "image/png": "[encoded data removed]",
            "text/plain": [
              "<Figure size 640x480 with 1 Axes>"
            ]
          },
          "metadata": {},
          "output_type": "display_data"
        }
      ],
      "source": [
        "# Plot test data in original scale\n",
        "def plot(data, labels, w, b, scaler):\n",
        "    # Adjust w and b for original scale\n",
        "    w_plot = w / scaler.scale_\n",
        "    b_plot = b - (w / scaler.scale_) @ scaler.mean_\n",
        "    data_orig = scaler.inverse_transform(data)\n",
        "    plt.scatter(data_orig[:, 0], data_orig[:, 1], c=labels)\n",
        "    m, b_line = -w_plot[0] / w_plot[1], -b_plot / w_plot[1]\n",
        "    x = np.arange(0, 100, 1)\n",
        "    plt.plot(x, m * x + b_line)\n",
        "    plt.xlabel('Grade 1')\n",
        "    plt.ylabel('Grade 2')\n",
        "    plt.show()\n",
        "\n",
        "plot(X_test, y_test, w, b, scaler)"
      ]
    },
    {
      "cell_type": "markdown",
      "metadata": {
        "id": "QWCDmkWdSgOE"
      },
      "source": [
        "We now want to upgrade our model and add a regularization term. The loss will be\n",
        "\n",
        "$$\n",
        "L'=L+\\lambda ||w||_1\n",
        "$$\n",
        "\n",
        "Adjust the implementation of `Logistic_Regression_via_GD` accordingly and add a hyperparameter named 'lamda'.\n",
        "\n",
        "Plot a graph of the accuracy on the validation set as function of lamda. The range is up to your choice, but dont use a larger value than 2."
      ]
    },
    {
      "cell_type": "code",
      "execution_count": 164,
      "metadata": {
        "id": "qa7H5IvKUQS_"
      },
      "outputs": [
        {
          "name": "stdout",
          "output_type": "stream",
          "text": [
            "Best λ: 0.0\n",
            "Test accuracy with best λ: 95.00%\n"
          ]
        }
      ],
      "source": [
        "\n",
        "best_lambda = lambdas[np.argmax(val_accs)]\n",
        "print(f\"Best λ: {best_lambda:.1f}\")\n",
        "w, b = Logistic_Regression_via_GD(X_train, y_train, lr=0.1, lamda=best_lambda)\n",
        "preds_test = predict(w, b, X_test)\n",
        "test_acc = np.mean(preds_test == y_test)\n",
        "print(f\"Test accuracy with best λ: {test_acc * 100:.2f}%\")"
      ]
    },
    {
      "cell_type": "markdown",
      "metadata": {
        "id": "RGixSilHUPXI"
      },
      "source": [
        "Using the best $\\lambda$ obtained from your work, print the final test accuracy.\n",
        "\n",
        "Answer the following questions:\n",
        "1. Did we need lambda? Try to justify why the lambda you found is the best.\n",
        "2. Generally speaking, when using the validation for tuning the best hyperparameter, is it guranteed it will be also the best for the test? Explain and show an example.\n",
        "\n",
        "<font color='red'>Write your answers here, with an explaination as requested</font>"
      ]
    },
    {
      "cell_type": "markdown",
      "metadata": {
        "id": "6uCKMrAFuKNp"
      },
      "source": [
        "## Question 4 - SVM\n",
        "\n",
        "Answer those questions here (in color) or in pdf"
      ]
    },
    {
      "cell_type": "markdown",
      "metadata": {
        "id": "c5mAOGz11hjc"
      },
      "source": [
        "### First section\n",
        "\n",
        "We will change the algorithm for Hard SVM by learning only from the samples with positive labels and ignoring samples with negative labelings. Hence, the optimization problem becomes:\n",
        "\n",
        "$$\\min \\frac{1}{2}||w||^2\\\\\n",
        "\\text{s.t.} \\forall i\\in J_+, w^\\top x_i+b\\geq 1\n",
        "$$\n",
        "\n",
        "As $J_+$ is the set of positive labeled samples indexes.\n",
        "\n",
        "a. Under the settings above, what will be the solution of w? Justify.\n",
        "b. If we set b=0, meaning we remain only with $w^\\top x_i\\geq 1$, what is $\\min_{i\\in J_+} w^\\top x_i?$\n",
        "\n",
        "c. Let $w^*$ be the solution to the problem (b=0). We will classify new samples as:\n",
        "\n",
        "$$\n",
        "\\hat{y}=\\begin{cases}\n",
        "1 & w^\\top x\\geq \\min_{i\\in J^+} w^\\top x_i-ɛ \\\\\n",
        "-1 & \\text{otherwise}\n",
        "\\end{cases}\n",
        "$$\n",
        "\n",
        "For some small $ε>0$. Will this condition classify correctly all the training samples, both positive and negative? Justify"
      ]
    },
    {
      "cell_type": "markdown",
      "metadata": {
        "id": "s8o6Km3M264O"
      },
      "source": [
        "### Second section\n",
        "\n",
        "Consider three distinct points $x_1,x_2∈R^d$ with labels $y_1=1, y_2=-1$.\n",
        "Compute the hyperplane that Hard SVM will return on this data, i.e., give explicit expressions for w and b as functions of x1, x2.\n",
        "Hint: convert the primal problem to the dual one and reduce it to a one variable problem.\n"
      ]
    },
    {
      "cell_type": "markdown",
      "metadata": {
        "id": "GX32wZOK5xii"
      },
      "source": [
        "### Third section\n",
        "\n",
        "We define the SHOR loss function of finding linear seperators:\n",
        "\n",
        "$$\n",
        "L=\\sum_{i=1}^n y_i*COST_0(\\theta^\\top x_i)+(1-y_i)*COST_1(\\theta^\\top x_i)\n",
        "$$\n",
        "\n",
        "Where:\n",
        "\n",
        "<img src=\"https://srworkspace.com/sharon/ml/datasets/cost.png\"/>\n",
        "\n",
        "This loss will be zero if exactly two conditions hold true. Which two conditions gurantee this? Explain!\n",
        "\n",
        "(i) For every sample with y_i=1, we have that $\\theta^\\top x_i\\geq 0$\n",
        "\n",
        "(ii) For every sample with y_i=0, we have that $\\theta^\\top x_i\\leq 0$\n",
        "\n",
        "(iii) For every sample with y_i=1, we have that $\\theta^\\top x_i\\geq -1$\n",
        "\n",
        "(iv) For every sample with y_i=1, we have that $\\theta^\\top x_i\\geq 1$"
      ]
    },
    {
      "cell_type": "markdown",
      "metadata": {
        "id": "1UiJ5ncdC7R2"
      },
      "source": [
        "## Question 5 - Bonus 8 pts"
      ]
    },
    {
      "cell_type": "markdown",
      "metadata": {
        "id": "J-0oVe4ZDBUx"
      },
      "source": [
        "Recall the house prices dataset you have seen in class.\n",
        "In this question, you will use another loss.\n",
        "\n",
        "$$\n",
        "L=\\frac{1}{n}||Xw-y||_1=\\frac{1}{n}\\sum_{i=1}^n |w^\\top x_i-y_i|\n",
        "$$\n",
        "This loss is more robust to outliers, since outliers affect linearly and not squared. However, w that minimizes this loss has no closed formula.\n",
        "\n",
        "Implement here everything from scratch. Do not use an existing model to minimize the loss. Try to reach the best model you can\n",
        "\n",
        "**Report** in your results: train and test results, plots, tuning (if you choose to), including any evidence your solution is good enough <br/>\n",
        "<font color='red'>Report here about your choices and reasons (dealing with data, optimization methods)</font>\n"
      ]
    },
    {
      "cell_type": "code",
      "execution_count": 37,
      "metadata": {
        "id": "wsQDTBd7JA8p"
      },
      "outputs": [
        {
          "ename": "ValueError",
          "evalue": "could not convert string to float: '.'",
          "output_type": "error",
          "traceback": [
            "\u001b[31m---------------------------------------------------------------------------\u001b[39m",
            "\u001b[31mValueError\u001b[39m                                Traceback (most recent call last)",
            "\u001b[36mCell\u001b[39m\u001b[36m \u001b[39m\u001b[32mIn[37]\u001b[39m\u001b[32m, line 8\u001b[39m\n\u001b[32m      5\u001b[39m data = pd.read_csv(\u001b[33m'\u001b[39m\u001b[33mhttps://sharon.srworkspace.com/ml/datasets/Toronto_rentals.csv\u001b[39m\u001b[33m'\u001b[39m)\n\u001b[32m      7\u001b[39m X = data.iloc[:, :\u001b[32m3\u001b[39m].to_numpy()  \u001b[38;5;66;03m# Bedroom, bathroom, den\u001b[39;00m\n\u001b[32m----> \u001b[39m\u001b[32m8\u001b[39m y = \u001b[43mdata\u001b[49m\u001b[43m.\u001b[49m\u001b[43miloc\u001b[49m\u001b[43m[\u001b[49m\u001b[43m:\u001b[49m\u001b[43m,\u001b[49m\u001b[43m \u001b[49m\u001b[43m-\u001b[49m\u001b[32;43m1\u001b[39;49m\u001b[43m]\u001b[49m\u001b[43m.\u001b[49m\u001b[43mstr\u001b[49m\u001b[43m.\u001b[49m\u001b[43mreplace\u001b[49m\u001b[43m(\u001b[49m\u001b[33;43mr\u001b[39;49m\u001b[33;43m'\u001b[39;49m\u001b[33;43m[^\u001b[39;49m\u001b[38;5;130;43;01m\\\\\u001b[39;49;00m\u001b[33;43md.]\u001b[39;49m\u001b[33;43m'\u001b[39;49m\u001b[43m,\u001b[49m\u001b[43m \u001b[49m\u001b[33;43m'\u001b[39;49m\u001b[33;43m'\u001b[39;49m\u001b[43m,\u001b[49m\u001b[43m \u001b[49m\u001b[43mregex\u001b[49m\u001b[43m=\u001b[49m\u001b[38;5;28;43;01mTrue\u001b[39;49;00m\u001b[43m)\u001b[49m\u001b[43m.\u001b[49m\u001b[43mastype\u001b[49m\u001b[43m(\u001b[49m\u001b[33;43m'\u001b[39;49m\u001b[33;43mfloat\u001b[39;49m\u001b[33;43m'\u001b[39;49m\u001b[43m)\u001b[49m.to_numpy()  \u001b[38;5;66;03m# Price\u001b[39;00m\n\u001b[32m     10\u001b[39m X_train, X_test, y_train, y_test = train_test_split(X, y, test_size=\u001b[32m0.2\u001b[39m, random_state=\u001b[32m21\u001b[39m)\n",
            "\u001b[36mFile \u001b[39m\u001b[32mc:\\Packages\\Python\\Lib\\site-packages\\pandas\\core\\generic.py:6643\u001b[39m, in \u001b[36mNDFrame.astype\u001b[39m\u001b[34m(self, dtype, copy, errors)\u001b[39m\n\u001b[32m   6637\u001b[39m     results = [\n\u001b[32m   6638\u001b[39m         ser.astype(dtype, copy=copy, errors=errors) \u001b[38;5;28;01mfor\u001b[39;00m _, ser \u001b[38;5;129;01min\u001b[39;00m \u001b[38;5;28mself\u001b[39m.items()\n\u001b[32m   6639\u001b[39m     ]\n\u001b[32m   6641\u001b[39m \u001b[38;5;28;01melse\u001b[39;00m:\n\u001b[32m   6642\u001b[39m     \u001b[38;5;66;03m# else, only a single dtype is given\u001b[39;00m\n\u001b[32m-> \u001b[39m\u001b[32m6643\u001b[39m     new_data = \u001b[38;5;28;43mself\u001b[39;49m\u001b[43m.\u001b[49m\u001b[43m_mgr\u001b[49m\u001b[43m.\u001b[49m\u001b[43mastype\u001b[49m\u001b[43m(\u001b[49m\u001b[43mdtype\u001b[49m\u001b[43m=\u001b[49m\u001b[43mdtype\u001b[49m\u001b[43m,\u001b[49m\u001b[43m \u001b[49m\u001b[43mcopy\u001b[49m\u001b[43m=\u001b[49m\u001b[43mcopy\u001b[49m\u001b[43m,\u001b[49m\u001b[43m \u001b[49m\u001b[43merrors\u001b[49m\u001b[43m=\u001b[49m\u001b[43merrors\u001b[49m\u001b[43m)\u001b[49m\n\u001b[32m   6644\u001b[39m     res = \u001b[38;5;28mself\u001b[39m._constructor_from_mgr(new_data, axes=new_data.axes)\n\u001b[32m   6645\u001b[39m     \u001b[38;5;28;01mreturn\u001b[39;00m res.__finalize__(\u001b[38;5;28mself\u001b[39m, method=\u001b[33m\"\u001b[39m\u001b[33mastype\u001b[39m\u001b[33m\"\u001b[39m)\n",
            "\u001b[36mFile \u001b[39m\u001b[32mc:\\Packages\\Python\\Lib\\site-packages\\pandas\\core\\internals\\managers.py:430\u001b[39m, in \u001b[36mBaseBlockManager.astype\u001b[39m\u001b[34m(self, dtype, copy, errors)\u001b[39m\n\u001b[32m    427\u001b[39m \u001b[38;5;28;01melif\u001b[39;00m using_copy_on_write():\n\u001b[32m    428\u001b[39m     copy = \u001b[38;5;28;01mFalse\u001b[39;00m\n\u001b[32m--> \u001b[39m\u001b[32m430\u001b[39m \u001b[38;5;28;01mreturn\u001b[39;00m \u001b[38;5;28;43mself\u001b[39;49m\u001b[43m.\u001b[49m\u001b[43mapply\u001b[49m\u001b[43m(\u001b[49m\n\u001b[32m    431\u001b[39m \u001b[43m    \u001b[49m\u001b[33;43m\"\u001b[39;49m\u001b[33;43mastype\u001b[39;49m\u001b[33;43m\"\u001b[39;49m\u001b[43m,\u001b[49m\n\u001b[32m    432\u001b[39m \u001b[43m    \u001b[49m\u001b[43mdtype\u001b[49m\u001b[43m=\u001b[49m\u001b[43mdtype\u001b[49m\u001b[43m,\u001b[49m\n\u001b[32m    433\u001b[39m \u001b[43m    \u001b[49m\u001b[43mcopy\u001b[49m\u001b[43m=\u001b[49m\u001b[43mcopy\u001b[49m\u001b[43m,\u001b[49m\n\u001b[32m    434\u001b[39m \u001b[43m    \u001b[49m\u001b[43merrors\u001b[49m\u001b[43m=\u001b[49m\u001b[43merrors\u001b[49m\u001b[43m,\u001b[49m\n\u001b[32m    435\u001b[39m \u001b[43m    \u001b[49m\u001b[43musing_cow\u001b[49m\u001b[43m=\u001b[49m\u001b[43musing_copy_on_write\u001b[49m\u001b[43m(\u001b[49m\u001b[43m)\u001b[49m\u001b[43m,\u001b[49m\n\u001b[32m    436\u001b[39m \u001b[43m\u001b[49m\u001b[43m)\u001b[49m\n",
            "\u001b[36mFile \u001b[39m\u001b[32mc:\\Packages\\Python\\Lib\\site-packages\\pandas\\core\\internals\\managers.py:363\u001b[39m, in \u001b[36mBaseBlockManager.apply\u001b[39m\u001b[34m(self, f, align_keys, **kwargs)\u001b[39m\n\u001b[32m    361\u001b[39m         applied = b.apply(f, **kwargs)\n\u001b[32m    362\u001b[39m     \u001b[38;5;28;01melse\u001b[39;00m:\n\u001b[32m--> \u001b[39m\u001b[32m363\u001b[39m         applied = \u001b[38;5;28;43mgetattr\u001b[39;49m\u001b[43m(\u001b[49m\u001b[43mb\u001b[49m\u001b[43m,\u001b[49m\u001b[43m \u001b[49m\u001b[43mf\u001b[49m\u001b[43m)\u001b[49m\u001b[43m(\u001b[49m\u001b[43m*\u001b[49m\u001b[43m*\u001b[49m\u001b[43mkwargs\u001b[49m\u001b[43m)\u001b[49m\n\u001b[32m    364\u001b[39m     result_blocks = extend_blocks(applied, result_blocks)\n\u001b[32m    366\u001b[39m out = \u001b[38;5;28mtype\u001b[39m(\u001b[38;5;28mself\u001b[39m).from_blocks(result_blocks, \u001b[38;5;28mself\u001b[39m.axes)\n",
            "\u001b[36mFile \u001b[39m\u001b[32mc:\\Packages\\Python\\Lib\\site-packages\\pandas\\core\\internals\\blocks.py:758\u001b[39m, in \u001b[36mBlock.astype\u001b[39m\u001b[34m(self, dtype, copy, errors, using_cow, squeeze)\u001b[39m\n\u001b[32m    755\u001b[39m         \u001b[38;5;28;01mraise\u001b[39;00m \u001b[38;5;167;01mValueError\u001b[39;00m(\u001b[33m\"\u001b[39m\u001b[33mCan not squeeze with more than one column.\u001b[39m\u001b[33m\"\u001b[39m)\n\u001b[32m    756\u001b[39m     values = values[\u001b[32m0\u001b[39m, :]  \u001b[38;5;66;03m# type: ignore[call-overload]\u001b[39;00m\n\u001b[32m--> \u001b[39m\u001b[32m758\u001b[39m new_values = \u001b[43mastype_array_safe\u001b[49m\u001b[43m(\u001b[49m\u001b[43mvalues\u001b[49m\u001b[43m,\u001b[49m\u001b[43m \u001b[49m\u001b[43mdtype\u001b[49m\u001b[43m,\u001b[49m\u001b[43m \u001b[49m\u001b[43mcopy\u001b[49m\u001b[43m=\u001b[49m\u001b[43mcopy\u001b[49m\u001b[43m,\u001b[49m\u001b[43m \u001b[49m\u001b[43merrors\u001b[49m\u001b[43m=\u001b[49m\u001b[43merrors\u001b[49m\u001b[43m)\u001b[49m\n\u001b[32m    760\u001b[39m new_values = maybe_coerce_values(new_values)\n\u001b[32m    762\u001b[39m refs = \u001b[38;5;28;01mNone\u001b[39;00m\n",
            "\u001b[36mFile \u001b[39m\u001b[32mc:\\Packages\\Python\\Lib\\site-packages\\pandas\\core\\dtypes\\astype.py:237\u001b[39m, in \u001b[36mastype_array_safe\u001b[39m\u001b[34m(values, dtype, copy, errors)\u001b[39m\n\u001b[32m    234\u001b[39m     dtype = dtype.numpy_dtype\n\u001b[32m    236\u001b[39m \u001b[38;5;28;01mtry\u001b[39;00m:\n\u001b[32m--> \u001b[39m\u001b[32m237\u001b[39m     new_values = \u001b[43mastype_array\u001b[49m\u001b[43m(\u001b[49m\u001b[43mvalues\u001b[49m\u001b[43m,\u001b[49m\u001b[43m \u001b[49m\u001b[43mdtype\u001b[49m\u001b[43m,\u001b[49m\u001b[43m \u001b[49m\u001b[43mcopy\u001b[49m\u001b[43m=\u001b[49m\u001b[43mcopy\u001b[49m\u001b[43m)\u001b[49m\n\u001b[32m    238\u001b[39m \u001b[38;5;28;01mexcept\u001b[39;00m (\u001b[38;5;167;01mValueError\u001b[39;00m, \u001b[38;5;167;01mTypeError\u001b[39;00m):\n\u001b[32m    239\u001b[39m     \u001b[38;5;66;03m# e.g. _astype_nansafe can fail on object-dtype of strings\u001b[39;00m\n\u001b[32m    240\u001b[39m     \u001b[38;5;66;03m#  trying to convert to float\u001b[39;00m\n\u001b[32m    241\u001b[39m     \u001b[38;5;28;01mif\u001b[39;00m errors == \u001b[33m\"\u001b[39m\u001b[33mignore\u001b[39m\u001b[33m\"\u001b[39m:\n",
            "\u001b[36mFile \u001b[39m\u001b[32mc:\\Packages\\Python\\Lib\\site-packages\\pandas\\core\\dtypes\\astype.py:182\u001b[39m, in \u001b[36mastype_array\u001b[39m\u001b[34m(values, dtype, copy)\u001b[39m\n\u001b[32m    179\u001b[39m     values = values.astype(dtype, copy=copy)\n\u001b[32m    181\u001b[39m \u001b[38;5;28;01melse\u001b[39;00m:\n\u001b[32m--> \u001b[39m\u001b[32m182\u001b[39m     values = \u001b[43m_astype_nansafe\u001b[49m\u001b[43m(\u001b[49m\u001b[43mvalues\u001b[49m\u001b[43m,\u001b[49m\u001b[43m \u001b[49m\u001b[43mdtype\u001b[49m\u001b[43m,\u001b[49m\u001b[43m \u001b[49m\u001b[43mcopy\u001b[49m\u001b[43m=\u001b[49m\u001b[43mcopy\u001b[49m\u001b[43m)\u001b[49m\n\u001b[32m    184\u001b[39m \u001b[38;5;66;03m# in pandas we don't store numpy str dtypes, so convert to object\u001b[39;00m\n\u001b[32m    185\u001b[39m \u001b[38;5;28;01mif\u001b[39;00m \u001b[38;5;28misinstance\u001b[39m(dtype, np.dtype) \u001b[38;5;129;01mand\u001b[39;00m \u001b[38;5;28missubclass\u001b[39m(values.dtype.type, \u001b[38;5;28mstr\u001b[39m):\n",
            "\u001b[36mFile \u001b[39m\u001b[32mc:\\Packages\\Python\\Lib\\site-packages\\pandas\\core\\dtypes\\astype.py:133\u001b[39m, in \u001b[36m_astype_nansafe\u001b[39m\u001b[34m(arr, dtype, copy, skipna)\u001b[39m\n\u001b[32m    129\u001b[39m     \u001b[38;5;28;01mraise\u001b[39;00m \u001b[38;5;167;01mValueError\u001b[39;00m(msg)\n\u001b[32m    131\u001b[39m \u001b[38;5;28;01mif\u001b[39;00m copy \u001b[38;5;129;01mor\u001b[39;00m arr.dtype == \u001b[38;5;28mobject\u001b[39m \u001b[38;5;129;01mor\u001b[39;00m dtype == \u001b[38;5;28mobject\u001b[39m:\n\u001b[32m    132\u001b[39m     \u001b[38;5;66;03m# Explicit copy, or required since NumPy can't view from / to object.\u001b[39;00m\n\u001b[32m--> \u001b[39m\u001b[32m133\u001b[39m     \u001b[38;5;28;01mreturn\u001b[39;00m \u001b[43marr\u001b[49m\u001b[43m.\u001b[49m\u001b[43mastype\u001b[49m\u001b[43m(\u001b[49m\u001b[43mdtype\u001b[49m\u001b[43m,\u001b[49m\u001b[43m \u001b[49m\u001b[43mcopy\u001b[49m\u001b[43m=\u001b[49m\u001b[38;5;28;43;01mTrue\u001b[39;49;00m\u001b[43m)\u001b[49m\n\u001b[32m    135\u001b[39m \u001b[38;5;28;01mreturn\u001b[39;00m arr.astype(dtype, copy=copy)\n",
            "\u001b[31mValueError\u001b[39m: could not convert string to float: '.'"
          ]
        }
      ],
      "source": [
        "import pandas as pd\n",
        "import numpy as np\n",
        "from sklearn.model_selection import train_test_split\n",
        "\n",
        "data = pd.read_csv('https://sharon.srworkspace.com/ml/datasets/Toronto_rentals.csv')\n",
        "\n",
        "X = data.iloc[:, :3].to_numpy()  # Bedroom, bathroom, den\n",
        "y = data.iloc[:, -1].str.replace(r'[^\\\\d.]', '', regex=True).astype('float').to_numpy()  # Price\n",
        "\n",
        "X_train, X_test, y_train, y_test = train_test_split(X, y, test_size=0.2, random_state=21)"
      ]
    },
    {
      "cell_type": "code",
      "execution_count": 35,
      "metadata": {
        "id": "98_8OkY1JHhy"
      },
      "outputs": [
        {
          "name": "stdout",
          "output_type": "stream",
          "text": [
            "Train L1 loss: 0.26656327257047707\n",
            "Test L1 loss: 0.22826171244496996\n"
          ]
        }
      ],
      "source": [
        "import numpy as np\n",
        "from sklearn.preprocessing import StandardScaler\n",
        "\n",
        "def subgradient_descent(X, y, eta=0.01, max_iterations=10000, threshold=1e-5):\n",
        "    n_samples, n_features = X.shape\n",
        "    w = np.zeros(n_features)\n",
        "    b = 0\n",
        "    losses = []\n",
        "    \n",
        "    for _ in range(max_iterations):\n",
        "        y_pred = np.dot(X, w) + b\n",
        "        residuals = y_pred - y\n",
        "        loss = np.mean(np.abs(residuals))\n",
        "        losses.append(loss)\n",
        "        \n",
        "        signs = np.sign(residuals)\n",
        "        dw = (1 / n_samples) * np.dot(X.T, signs)\n",
        "        db = (1 / n_samples) * np.sum(signs)\n",
        "        \n",
        "        w -= eta * dw\n",
        "        b -= eta * db\n",
        "        \n",
        "        if np.linalg.norm(dw) < threshold:\n",
        "            break\n",
        "    \n",
        "    return w, b, losses\n",
        "\n",
        "def l1_loss(X, y, w, b):\n",
        "    y_pred = np.dot(X, w) + b\n",
        "    return np.mean(np.abs(y_pred - y))\n",
        "\n",
        "# Standardize features\n",
        "scaler = StandardScaler()\n",
        "X_train_scaled = scaler.fit_transform(X_train)\n",
        "X_test_scaled = scaler.transform(X_test)\n",
        "\n",
        "# Train model\n",
        "w, b, losses = subgradient_descent(X_train_scaled, y_train)\n",
        "\n",
        "# Evaluate\n",
        "train_loss = l1_loss(X_train_scaled, y_train, w, b)\n",
        "test_loss = l1_loss(X_test_scaled, y_test, w, b)\n",
        "print(f\"Train L1 loss: {train_loss}\")\n",
        "print(f\"Test L1 loss: {test_loss}\")"
      ]
    },
    {
      "cell_type": "code",
      "execution_count": 36,
      "metadata": {},
      "outputs": [
        {
          "data": {
            "image/png": "[encoded data removed]",
            "text/plain": [
              "<Figure size 640x480 with 1 Axes>"
            ]
          },
          "metadata": {},
          "output_type": "display_data"
        }
      ],
      "source": [
        "import matplotlib.pyplot as plt\n",
        "\n",
        "# Assuming losses is available from subgradient_descent\n",
        "plt.plot(losses)\n",
        "plt.xlabel('Iteration')\n",
        "plt.ylabel('L1 Loss')\n",
        "plt.title('Training Loss over Iterations')\n",
        "plt.savefig('l1_training_loss.png')"
      ]
    }
  ],
  "metadata": {
    "colab": {
      "collapsed_sections": [
        "rs2flQjZL-D7",
        "NKWjqVSG-hZG",
        "PJPkQ__X2pKK",
        "6uCKMrAFuKNp",
        "1UiJ5ncdC7R2"
      ],
      "provenance": []
    },
    "gpuClass": "standard",
    "kernelspec": {
      "display_name": "Python 3",
      "name": "python3"
    },
    "language_info": {
      "codemirror_mode": {
        "name": "ipython",
        "version": 3
      },
      "file_extension": ".py",
      "mimetype": "text/x-python",
      "name": "python",
      "nbconvert_exporter": "python",
      "pygments_lexer": "ipython3",
      "version": "3.13.2"
    }
  },
  "nbformat": 4,
  "nbformat_minor": 0
}
